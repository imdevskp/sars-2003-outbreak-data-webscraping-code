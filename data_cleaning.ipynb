{
 "cells": [
  {
   "cell_type": "markdown",
   "metadata": {},
   "source": [
    "# Libraries"
   ]
  },
  {
   "cell_type": "code",
   "execution_count": 1,
   "metadata": {},
   "outputs": [],
   "source": [
    "# to get web contents\n",
    "import requests \n",
    "# scrap and clean web contents\n",
    "from bs4 import BeautifulSoup\n",
    "\n",
    "# numerical opeations\n",
    "import numpy as np\n",
    "# storing and processing in a dataframe\n",
    "import pandas as pd"
   ]
  },
  {
   "cell_type": "markdown",
   "metadata": {},
   "source": [
    "# Data"
   ]
  },
  {
   "cell_type": "code",
   "execution_count": 2,
   "metadata": {},
   "outputs": [
    {
     "data": {
      "text/html": [
       "<div>\n",
       "<style scoped>\n",
       "    .dataframe tbody tr th:only-of-type {\n",
       "        vertical-align: middle;\n",
       "    }\n",
       "\n",
       "    .dataframe tbody tr th {\n",
       "        vertical-align: top;\n",
       "    }\n",
       "\n",
       "    .dataframe thead th {\n",
       "        text-align: right;\n",
       "    }\n",
       "</style>\n",
       "<table border=\"1\" class=\"dataframe\">\n",
       "  <thead>\n",
       "    <tr style=\"text-align: right;\">\n",
       "      <th></th>\n",
       "      <th>Date</th>\n",
       "      <th>Country</th>\n",
       "      <th>Cumulative number of case(s)</th>\n",
       "      <th>Number of deaths</th>\n",
       "      <th>Number recovered</th>\n",
       "    </tr>\n",
       "  </thead>\n",
       "  <tbody>\n",
       "    <tr>\n",
       "      <th>0</th>\n",
       "      <td>2003-03-17</td>\n",
       "      <td>Germany</td>\n",
       "      <td>1</td>\n",
       "      <td>0</td>\n",
       "      <td>0</td>\n",
       "    </tr>\n",
       "    <tr>\n",
       "      <th>1</th>\n",
       "      <td>2003-03-17</td>\n",
       "      <td>Canada</td>\n",
       "      <td>8</td>\n",
       "      <td>2</td>\n",
       "      <td>0</td>\n",
       "    </tr>\n",
       "    <tr>\n",
       "      <th>2</th>\n",
       "      <td>2003-03-17</td>\n",
       "      <td>Singapore</td>\n",
       "      <td>20</td>\n",
       "      <td>0</td>\n",
       "      <td>0</td>\n",
       "    </tr>\n",
       "    <tr>\n",
       "      <th>3</th>\n",
       "      <td>2003-03-17</td>\n",
       "      <td>Hong Kong Special Administrative Region of Ch...</td>\n",
       "      <td>95</td>\n",
       "      <td>1**</td>\n",
       "      <td>0</td>\n",
       "    </tr>\n",
       "    <tr>\n",
       "      <th>4</th>\n",
       "      <td>2003-03-17</td>\n",
       "      <td>Switzerland</td>\n",
       "      <td>2</td>\n",
       "      <td>0</td>\n",
       "      <td>0</td>\n",
       "    </tr>\n",
       "  </tbody>\n",
       "</table>\n",
       "</div>"
      ],
      "text/plain": [
       "        Date                                            Country  \\\n",
       "0 2003-03-17                                           Germany    \n",
       "1 2003-03-17                                           Canada     \n",
       "2 2003-03-17                                         Singapore    \n",
       "3 2003-03-17   Hong Kong Special Administrative Region of Ch...   \n",
       "4 2003-03-17                                        Switzerland   \n",
       "\n",
       "  Cumulative number of case(s) Number of deaths Number recovered  \n",
       "0                           1                 0                0  \n",
       "1                            8                2                0  \n",
       "2                           20                0                0  \n",
       "3                          95               1**                0  \n",
       "4                            2                0                0  "
      ]
     },
     "execution_count": 2,
     "metadata": {},
     "output_type": "execute_result"
    }
   ],
   "source": [
    "# read data\n",
    "df = pd.read_csv('sars_2003_complete_dataset_raw.csv', \n",
    "                 parse_dates=['Date'])\n",
    "# first few rows\n",
    "df.head()"
   ]
  },
  {
   "cell_type": "code",
   "execution_count": 3,
   "metadata": {},
   "outputs": [
    {
     "name": "stdout",
     "output_type": "stream",
     "text": [
      "<class 'pandas.core.frame.DataFrame'>\n",
      "RangeIndex: 2539 entries, 0 to 2538\n",
      "Data columns (total 5 columns):\n",
      " #   Column                        Non-Null Count  Dtype         \n",
      "---  ------                        --------------  -----         \n",
      " 0   Date                          2539 non-null   datetime64[ns]\n",
      " 1   Country                       2539 non-null   object        \n",
      " 2   Cumulative number of case(s)  2539 non-null   object        \n",
      " 3   Number of deaths              2539 non-null   object        \n",
      " 4   Number recovered              2539 non-null   object        \n",
      "dtypes: datetime64[ns](1), object(4)\n",
      "memory usage: 99.3+ KB\n"
     ]
    }
   ],
   "source": [
    "# info of the df\n",
    "df.info()"
   ]
  },
  {
   "cell_type": "markdown",
   "metadata": {},
   "source": [
    "# Preprocessing"
   ]
  },
  {
   "cell_type": "code",
   "execution_count": 4,
   "metadata": {},
   "outputs": [],
   "source": [
    "# extract number and fill na with 0\n",
    "# =================================\n",
    "\n",
    "# columns that need processing\n",
    "num_cols = ['Cumulative number of case(s)', 'Number of deaths', \n",
    "            'Number recovered']\n",
    "\n",
    "# loop through column\n",
    "for col in num_cols:\n",
    "    # extract number from string\n",
    "    df[col] = df[col].str.extract('(\\d+)', expand=False)\n",
    "    # fill na with 0\n",
    "    df[col] = df[col].fillna('0').astype(int)"
   ]
  },
  {
   "cell_type": "code",
   "execution_count": 5,
   "metadata": {},
   "outputs": [
    {
     "data": {
      "text/plain": [
       "Germany                                            96\n",
       "Singapore                                          96\n",
       "Thailand                                           96\n",
       "United Kingdom                                     95\n",
       "Viet Nam                                           95\n",
       "                                                   ..\n",
       "China, Hong Kong Special Administrative Region5     1\n",
       "China \\n    +                                       1\n",
       "Viet Nam 5                                          1\n",
       "Total                                               1\n",
       "China, Guangdong Province+                          1\n",
       "Name: Country, Length: 62, dtype: int64"
      ]
     },
     "execution_count": 5,
     "metadata": {},
     "output_type": "execute_result"
    }
   ],
   "source": [
    "# strip extra white space\n",
    "df['Country'] = df['Country'].str.strip()\n",
    "df['Country'].value_counts()"
   ]
  },
  {
   "cell_type": "code",
   "execution_count": 6,
   "metadata": {},
   "outputs": [
    {
     "data": {
      "text/html": [
       "<div>\n",
       "<style scoped>\n",
       "    .dataframe tbody tr th:only-of-type {\n",
       "        vertical-align: middle;\n",
       "    }\n",
       "\n",
       "    .dataframe tbody tr th {\n",
       "        vertical-align: top;\n",
       "    }\n",
       "\n",
       "    .dataframe thead th {\n",
       "        text-align: right;\n",
       "    }\n",
       "</style>\n",
       "<table border=\"1\" class=\"dataframe\">\n",
       "  <thead>\n",
       "    <tr style=\"text-align: right;\">\n",
       "      <th></th>\n",
       "      <th>Date</th>\n",
       "      <th>Country</th>\n",
       "      <th>Cumulative number of case(s)</th>\n",
       "      <th>Number of deaths</th>\n",
       "      <th>Number recovered</th>\n",
       "    </tr>\n",
       "  </thead>\n",
       "  <tbody>\n",
       "    <tr>\n",
       "      <th>3</th>\n",
       "      <td>2003-03-17</td>\n",
       "      <td>Hong Kong Special Administrative Region of China</td>\n",
       "      <td>95</td>\n",
       "      <td>1</td>\n",
       "      <td>0</td>\n",
       "    </tr>\n",
       "    <tr>\n",
       "      <th>9</th>\n",
       "      <td>2003-03-18</td>\n",
       "      <td>China \\n    +</td>\n",
       "      <td>0</td>\n",
       "      <td>0</td>\n",
       "      <td>0</td>\n",
       "    </tr>\n",
       "    <tr>\n",
       "      <th>11</th>\n",
       "      <td>2003-03-18</td>\n",
       "      <td>Hong Kong Special Administrative Region of China</td>\n",
       "      <td>123</td>\n",
       "      <td>1</td>\n",
       "      <td>0</td>\n",
       "    </tr>\n",
       "    <tr>\n",
       "      <th>12</th>\n",
       "      <td>2003-03-18</td>\n",
       "      <td>Taiwan, China</td>\n",
       "      <td>3</td>\n",
       "      <td>0</td>\n",
       "      <td>0</td>\n",
       "    </tr>\n",
       "    <tr>\n",
       "      <th>18</th>\n",
       "      <td>2003-03-19</td>\n",
       "      <td>China+</td>\n",
       "      <td>0</td>\n",
       "      <td>0</td>\n",
       "      <td>0</td>\n",
       "    </tr>\n",
       "    <tr>\n",
       "      <th>...</th>\n",
       "      <td>...</td>\n",
       "      <td>...</td>\n",
       "      <td>...</td>\n",
       "      <td>...</td>\n",
       "      <td>...</td>\n",
       "    </tr>\n",
       "    <tr>\n",
       "      <th>2482</th>\n",
       "      <td>2003-07-10</td>\n",
       "      <td>China, Taiwan</td>\n",
       "      <td>671</td>\n",
       "      <td>84</td>\n",
       "      <td>506</td>\n",
       "    </tr>\n",
       "    <tr>\n",
       "      <th>2510</th>\n",
       "      <td>2003-07-11</td>\n",
       "      <td>China^5</td>\n",
       "      <td>5327</td>\n",
       "      <td>348</td>\n",
       "      <td>4941</td>\n",
       "    </tr>\n",
       "    <tr>\n",
       "      <th>2511</th>\n",
       "      <td>2003-07-11</td>\n",
       "      <td>China, Hong Kong Special Administrative Region^6</td>\n",
       "      <td>1755</td>\n",
       "      <td>298</td>\n",
       "      <td>1433</td>\n",
       "    </tr>\n",
       "    <tr>\n",
       "      <th>2512</th>\n",
       "      <td>2003-07-11</td>\n",
       "      <td>China, Macao Special Administrative Region</td>\n",
       "      <td>1</td>\n",
       "      <td>0</td>\n",
       "      <td>1</td>\n",
       "    </tr>\n",
       "    <tr>\n",
       "      <th>2513</th>\n",
       "      <td>2003-07-11</td>\n",
       "      <td>China, Taiwan</td>\n",
       "      <td>671</td>\n",
       "      <td>84</td>\n",
       "      <td>507</td>\n",
       "    </tr>\n",
       "  </tbody>\n",
       "</table>\n",
       "<p>344 rows × 5 columns</p>\n",
       "</div>"
      ],
      "text/plain": [
       "           Date                                           Country  \\\n",
       "3    2003-03-17  Hong Kong Special Administrative Region of China   \n",
       "9    2003-03-18                                     China \\n    +   \n",
       "11   2003-03-18  Hong Kong Special Administrative Region of China   \n",
       "12   2003-03-18                                     Taiwan, China   \n",
       "18   2003-03-19                                            China+   \n",
       "...         ...                                               ...   \n",
       "2482 2003-07-10                                     China, Taiwan   \n",
       "2510 2003-07-11                                           China^5   \n",
       "2511 2003-07-11  China, Hong Kong Special Administrative Region^6   \n",
       "2512 2003-07-11        China, Macao Special Administrative Region   \n",
       "2513 2003-07-11                                     China, Taiwan   \n",
       "\n",
       "      Cumulative number of case(s)  Number of deaths  Number recovered  \n",
       "3                               95                 1                 0  \n",
       "9                                0                 0                 0  \n",
       "11                             123                 1                 0  \n",
       "12                               3                 0                 0  \n",
       "18                               0                 0                 0  \n",
       "...                            ...               ...               ...  \n",
       "2482                           671                84               506  \n",
       "2510                          5327               348              4941  \n",
       "2511                          1755               298              1433  \n",
       "2512                             1                 0                 1  \n",
       "2513                           671                84               507  \n",
       "\n",
       "[344 rows x 5 columns]"
      ]
     },
     "execution_count": 6,
     "metadata": {},
     "output_type": "execute_result"
    }
   ],
   "source": [
    "# all the rows that contains 'China'\n",
    "df[df['Country'].str.contains('China')]"
   ]
  },
  {
   "cell_type": "code",
   "execution_count": 7,
   "metadata": {},
   "outputs": [
    {
     "data": {
      "text/plain": [
       "China, Taiwan                                            88\n",
       "China                                                    68\n",
       "China, Macao Special Administrative Region               58\n",
       "China, Hong Kong Special Administrative Region^4         32\n",
       "China, Hong Kong Special Administrative Region^6         14\n",
       "China, Hong Kong Special Administrative Region           14\n",
       "China^5                                                  14\n",
       "China, Hong Kong Special Administrative Region^5         13\n",
       "Hong Kong Special Administrative Region of China          8\n",
       "Taiwan, China                                             7\n",
       "China, Hong Kong Special Administrative Region4           5\n",
       "China, Hong Kong Special Administrative Region 5          5\n",
       "China3                                                    4\n",
       "China +                                                   3\n",
       "China +                                                   3\n",
       "China, Hong Kong Special Administrative Region 4          3\n",
       "China, Guangdong Province+                                1\n",
       "China, Hong Kong Special Administrative Region5           1\n",
       "China \\n    +                                             1\n",
       "China, Hong Kong Special Administrative Region\\n    4     1\n",
       "China+                                                    1\n",
       "Name: Country, dtype: int64"
      ]
     },
     "execution_count": 7,
     "metadata": {},
     "output_type": "execute_result"
    }
   ],
   "source": [
    "# value_counts of the country of rows that contains 'China'\n",
    "df[df['Country'].str.contains('China')]['Country'].value_counts()"
   ]
  },
  {
   "cell_type": "code",
   "execution_count": 8,
   "metadata": {},
   "outputs": [],
   "source": [
    "# replace strings\n",
    "df['Country'] = df['Country'].replace(r'China, Hong Kong Special Administrative Region', 'Hong Kong SAR, China', regex=True)\n",
    "df['Country'] = df['Country'].replace(r'^.*Hong Kong.*$', 'Hong Kong SAR, China', regex=True)\n",
    "df['Country'] = df['Country'].replace(r'^.*Macao.*$', 'Macao SAR, China', regex=True)\n",
    "df['Country'] = df['Country'].replace(r'^.*Taiwan.*$', 'Taiwan, China', regex=True)\n",
    "df['Country'] = df['Country'].replace(r'China\\s+', 'China', regex=True)\n",
    "df['Country'] = df['Country'].replace(r'Viet Nam\\s+', 'China', regex=True)\n",
    "df['Country'] = df['Country'].replace(r'China, Guangdong Province', 'China', regex=True)\n",
    "\n",
    "df['Country'] = df['Country'].replace({'\\^\\d':''}, regex=True)\n",
    "df['Country'] = df['Country'].replace({'\\d':''}, regex=True)\n",
    "df['Country'] = df['Country'].replace({'\\+':''}, regex=True)\n",
    "df['Country'] = df['Country'].replace({'\\n':''}, regex=True)\n",
    "\n",
    "df = df[df['Country']!='Total']"
   ]
  },
  {
   "cell_type": "code",
   "execution_count": 9,
   "metadata": {},
   "outputs": [
    {
     "data": {
      "text/plain": [
       "Australia               17\n",
       "Belgium                  5\n",
       "Brazil                  81\n",
       "Bulgaria                20\n",
       "Canada                  96\n",
       "China                   96\n",
       "Colombia                53\n",
       "Finland                 51\n",
       "France                  90\n",
       "Germany                 96\n",
       "Hong Kong SAR, China    96\n",
       "India                   64\n",
       "Indonesia               72\n",
       "Italy                   92\n",
       "Japan                   19\n",
       "Kuwait                  75\n",
       "Macao SAR, China        58\n",
       "Malaysia                79\n",
       "Mongolia                69\n",
       "New Zealand             56\n",
       "Philippines             72\n",
       "Poland                  10\n",
       "Republic of Ireland     92\n",
       "Republic of Korea       59\n",
       "Romania                 87\n",
       "Russian Federation      31\n",
       "Singapore               96\n",
       "Slovenia                 5\n",
       "South Africa            74\n",
       "Spain                   86\n",
       "Sweden                  72\n",
       "Switzerland             94\n",
       "Taiwan, China           95\n",
       "Thailand                96\n",
       "United Kingdom          95\n",
       "United States           94\n",
       "Viet Nam                95\n",
       "Name: Country, dtype: int64"
      ]
     },
     "execution_count": 9,
     "metadata": {},
     "output_type": "execute_result"
    }
   ],
   "source": [
    "# sort according to country name\n",
    "df['Country'].value_counts().sort_index()"
   ]
  },
  {
   "cell_type": "code",
   "execution_count": 10,
   "metadata": {},
   "outputs": [
    {
     "data": {
      "text/plain": [
       "Belgium                  5\n",
       "Slovenia                 5\n",
       "Poland                  10\n",
       "Australia               17\n",
       "Japan                   19\n",
       "Bulgaria                20\n",
       "Russian Federation      31\n",
       "Finland                 51\n",
       "Colombia                53\n",
       "New Zealand             56\n",
       "Macao SAR, China        58\n",
       "Republic of Korea       59\n",
       "India                   64\n",
       "Mongolia                69\n",
       "Philippines             72\n",
       "Sweden                  72\n",
       "Indonesia               72\n",
       "South Africa            74\n",
       "Kuwait                  75\n",
       "Malaysia                79\n",
       "Brazil                  81\n",
       "Spain                   86\n",
       "Romania                 87\n",
       "France                  90\n",
       "Republic of Ireland     92\n",
       "Italy                   92\n",
       "United States           94\n",
       "Switzerland             94\n",
       "Viet Nam                95\n",
       "Taiwan, China           95\n",
       "United Kingdom          95\n",
       "Germany                 96\n",
       "Thailand                96\n",
       "China                   96\n",
       "Hong Kong SAR, China    96\n",
       "Canada                  96\n",
       "Singapore               96\n",
       "Name: Country, dtype: int64"
      ]
     },
     "execution_count": 10,
     "metadata": {},
     "output_type": "execute_result"
    }
   ],
   "source": [
    "# sort accoring to values\n",
    "df['Country'].value_counts().sort_values()"
   ]
  },
  {
   "cell_type": "code",
   "execution_count": 11,
   "metadata": {},
   "outputs": [
    {
     "data": {
      "text/html": [
       "<div>\n",
       "<style scoped>\n",
       "    .dataframe tbody tr th:only-of-type {\n",
       "        vertical-align: middle;\n",
       "    }\n",
       "\n",
       "    .dataframe tbody tr th {\n",
       "        vertical-align: top;\n",
       "    }\n",
       "\n",
       "    .dataframe thead th {\n",
       "        text-align: right;\n",
       "    }\n",
       "</style>\n",
       "<table border=\"1\" class=\"dataframe\">\n",
       "  <thead>\n",
       "    <tr style=\"text-align: right;\">\n",
       "      <th></th>\n",
       "      <th>Date</th>\n",
       "      <th>Country</th>\n",
       "      <th>Cumulative number of case(s)</th>\n",
       "      <th>Number of deaths</th>\n",
       "      <th>Number recovered</th>\n",
       "    </tr>\n",
       "  </thead>\n",
       "  <tbody>\n",
       "  </tbody>\n",
       "</table>\n",
       "</div>"
      ],
      "text/plain": [
       "Empty DataFrame\n",
       "Columns: [Date, Country, Cumulative number of case(s), Number of deaths, Number recovered]\n",
       "Index: []"
      ]
     },
     "execution_count": 11,
     "metadata": {},
     "output_type": "execute_result"
    }
   ],
   "source": [
    "# rows that contains commulative count\n",
    "df[df['Country']=='Total']"
   ]
  },
  {
   "cell_type": "code",
   "execution_count": 12,
   "metadata": {},
   "outputs": [
    {
     "data": {
      "text/html": [
       "<div>\n",
       "<style scoped>\n",
       "    .dataframe tbody tr th:only-of-type {\n",
       "        vertical-align: middle;\n",
       "    }\n",
       "\n",
       "    .dataframe tbody tr th {\n",
       "        vertical-align: top;\n",
       "    }\n",
       "\n",
       "    .dataframe thead th {\n",
       "        text-align: right;\n",
       "    }\n",
       "</style>\n",
       "<table border=\"1\" class=\"dataframe\">\n",
       "  <thead>\n",
       "    <tr style=\"text-align: right;\">\n",
       "      <th></th>\n",
       "      <th>Date</th>\n",
       "      <th>Country</th>\n",
       "      <th>Cumulative number of case(s)</th>\n",
       "      <th>Number of deaths</th>\n",
       "      <th>Number recovered</th>\n",
       "    </tr>\n",
       "  </thead>\n",
       "  <tbody>\n",
       "    <tr>\n",
       "      <th>0</th>\n",
       "      <td>2003-03-17</td>\n",
       "      <td>Germany</td>\n",
       "      <td>1</td>\n",
       "      <td>0</td>\n",
       "      <td>0</td>\n",
       "    </tr>\n",
       "    <tr>\n",
       "      <th>1</th>\n",
       "      <td>2003-03-17</td>\n",
       "      <td>Canada</td>\n",
       "      <td>8</td>\n",
       "      <td>2</td>\n",
       "      <td>0</td>\n",
       "    </tr>\n",
       "    <tr>\n",
       "      <th>2</th>\n",
       "      <td>2003-03-17</td>\n",
       "      <td>Singapore</td>\n",
       "      <td>20</td>\n",
       "      <td>0</td>\n",
       "      <td>0</td>\n",
       "    </tr>\n",
       "    <tr>\n",
       "      <th>3</th>\n",
       "      <td>2003-03-17</td>\n",
       "      <td>Hong Kong SAR, China</td>\n",
       "      <td>95</td>\n",
       "      <td>1</td>\n",
       "      <td>0</td>\n",
       "    </tr>\n",
       "    <tr>\n",
       "      <th>4</th>\n",
       "      <td>2003-03-17</td>\n",
       "      <td>Switzerland</td>\n",
       "      <td>2</td>\n",
       "      <td>0</td>\n",
       "      <td>0</td>\n",
       "    </tr>\n",
       "  </tbody>\n",
       "</table>\n",
       "</div>"
      ],
      "text/plain": [
       "        Date               Country  Cumulative number of case(s)  \\\n",
       "0 2003-03-17               Germany                             1   \n",
       "1 2003-03-17                Canada                             8   \n",
       "2 2003-03-17             Singapore                            20   \n",
       "3 2003-03-17  Hong Kong SAR, China                            95   \n",
       "4 2003-03-17           Switzerland                             2   \n",
       "\n",
       "   Number of deaths  Number recovered  \n",
       "0                 0                 0  \n",
       "1                 2                 0  \n",
       "2                 0                 0  \n",
       "3                 1                 0  \n",
       "4                 0                 0  "
      ]
     },
     "execution_count": 12,
     "metadata": {},
     "output_type": "execute_result"
    }
   ],
   "source": [
    "# first few row of the final data\n",
    "df.head()"
   ]
  },
  {
   "cell_type": "markdown",
   "metadata": {},
   "source": [
    "# Save data"
   ]
  },
  {
   "cell_type": "code",
   "execution_count": 13,
   "metadata": {},
   "outputs": [],
   "source": [
    "# save data in csv file\n",
    "df.to_csv('sars_2003_complete_dataset_clean.csv', index=False)"
   ]
  },
  {
   "cell_type": "code",
   "execution_count": null,
   "metadata": {},
   "outputs": [],
   "source": []
  },
  {
   "cell_type": "code",
   "execution_count": null,
   "metadata": {},
   "outputs": [],
   "source": []
  },
  {
   "cell_type": "code",
   "execution_count": null,
   "metadata": {},
   "outputs": [],
   "source": []
  }
 ],
 "metadata": {
  "kernelspec": {
   "display_name": "Python 3",
   "language": "python",
   "name": "python3"
  },
  "language_info": {
   "codemirror_mode": {
    "name": "ipython",
    "version": 3
   },
   "file_extension": ".py",
   "mimetype": "text/x-python",
   "name": "python",
   "nbconvert_exporter": "python",
   "pygments_lexer": "ipython3",
   "version": "3.7.6"
  }
 },
 "nbformat": 4,
 "nbformat_minor": 4
}
